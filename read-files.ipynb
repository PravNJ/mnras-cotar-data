{
 "cells": [
  {
   "cell_type": "code",
   "execution_count": 1,
   "source": [
    "import numpy as np\n",
    "import astropy.io.fits as pyfits\n",
    "import matplotlib.pyplot as plt\n",
    "import glob"
   ],
   "outputs": [],
   "metadata": {}
  },
  {
   "cell_type": "code",
   "execution_count": 2,
   "source": [
    "GRID_SIZE = 0.06\n",
    "LOWER_LAMBDA = 6472.5\n",
    "UPPER_LAMBDA = 6740"
   ],
   "outputs": [],
   "metadata": {}
  },
  {
   "cell_type": "code",
   "execution_count": 3,
   "source": [
    "regrid = np.arange(LOWER_LAMBDA, UPPER_LAMBDA, GRID_SIZE) "
   ],
   "outputs": [],
   "metadata": {}
  },
  {
   "cell_type": "code",
   "execution_count": 39,
   "source": [
    "sobject_ids = [140610004401018] #flag = 0"
   ],
   "outputs": [],
   "metadata": {}
  },
  {
   "cell_type": "code",
   "execution_count": 40,
   "source": [
    "def read_spectra(sobject_id, regrid):\n",
    "    fits_files = [[],[],[],[]]\n",
    "    for each_ccd in [1,2,3,4]:\n",
    "        fits_files[each_ccd-1] = glob.glob(\"/home/praveen/Dropbox/Masters/emission-mnras-cotar/data/\"+str(sobject_id)+str(each_ccd)+\".fits\") #this is reading fits files from file and not downloading directly \n",
    "\n",
    "    spectrum = dict()\n",
    "    for each_ccd in [1,2,3,4]: #GALAH uses indexing from 1 - 4\n",
    "        if fits_files[each_ccd-1]!=[]: #just using zero indexing here \n",
    "            fits = pyfits.open(fits_files[each_ccd-1][0]) \n",
    "            \n",
    "            # Extension 0: Reduced spectrum\n",
    "            # Extension 1: Relative error spectrum\n",
    "            # Extension 4: Normalised spectrum, NB: cut for CCD4\n",
    "\n",
    "            # Extract wavelength grid for the reduced spectrum\n",
    "            start_wavelength = fits[0].header[\"CRVAL1\"]\n",
    "            dispersion       = fits[0].header[\"CDELT1\"]\n",
    "            nr_pixels        = fits[0].header[\"NAXIS1\"]\n",
    "            reference_pixel  = fits[0].header[\"CRPIX1\"]\n",
    "\n",
    "            if reference_pixel == 0:\n",
    "                reference_pixel = 1\n",
    "            spectrum['wave_red_'+str(each_ccd)] = ((np.arange(0,nr_pixels)--reference_pixel+1)*dispersion+start_wavelength) #this is the reduced spectrum \n",
    "\n",
    "            # Extract wavelength grid for the normalised spectrum\n",
    "            if fits[4] != []:\n",
    "                start_wavelength = fits[4].header[\"CRVAL1\"]\n",
    "                dispersion       = fits[4].header[\"CDELT1\"]\n",
    "                nr_pixels        = fits[4].header[\"NAXIS1\"]\n",
    "                reference_pixel  = fits[4].header[\"CRPIX1\"]\n",
    "            else:\n",
    "                start_wavelength = np.ones(len(regrid),dtype=float)\n",
    "                dispersion       = np.ones(len(regrid),dtype=float)\n",
    "                nr_pixels        = np.ones(len(regrid),dtype=float)\n",
    "                reference_pixel  = np.ones(len(regrid),dtype=float)\n",
    "\n",
    "\n",
    "            if reference_pixel == 0:\n",
    "                reference_pixel=1\n",
    "            spectrum['wave_norm_'+str(each_ccd)] = ((np.arange(0,nr_pixels)--reference_pixel+1)*dispersion+start_wavelength) #this is the normalised spectrum \n",
    "\n",
    "            spectrum['sob_red_'+str(each_ccd)]  = np.array(fits[0].data)\n",
    "            spectrum['uob_red_'+str(each_ccd)]  = np.array(fits[0].data * fits[1].data)\n",
    "\n",
    "            spectrum['sob_norm_'+str(each_ccd)] = np.array(fits[4].data)\n",
    "            if each_ccd != 4:\n",
    "                spectrum['uob_norm_'+str(each_ccd)] = np.array(fits[4].data * fits[1].data)\n",
    "            else:\n",
    "                # for normalised error of CCD4, only used appropriate parts of error spectrum\n",
    "                spectrum['uob_norm_4'] = np.array(fits[4].data * (fits[1].data)[-len(spectrum['sob_norm_4']):])\n",
    "\n",
    "            fits.close()\n",
    "        else:\n",
    "            spectrum['wave_red_'+str(each_ccd)] = []\n",
    "            spectrum['wave_norm_'+str(each_ccd)] = []\n",
    "            spectrum['sob_red_'+str(each_ccd)] = []\n",
    "            spectrum['sob_norm_'+str(each_ccd)] = []\n",
    "            spectrum['uob_red_'+str(each_ccd)] = []\n",
    "            spectrum['uob_norm_'+str(each_ccd)] = []\n",
    "    \n",
    "    spectrum['wave_red'] = np.concatenate(([spectrum['wave_red_'+str(each_ccd)] for each_ccd in [1,2,3,4]]))\n",
    "    spectrum['wave_norm'] = np.concatenate(([spectrum['wave_norm_'+str(each_ccd)] for each_ccd in [1,2,3,4]]))\n",
    "    spectrum['sob_red'] = np.concatenate(([spectrum['sob_red_'+str(each_ccd)] for each_ccd in [1,2,3,4]]))\n",
    "    spectrum['sob_norm'] = np.concatenate(([spectrum['sob_norm_'+str(each_ccd)] for each_ccd in [1,2,3,4]]))\n",
    "    spectrum['uob_red'] = np.concatenate(([spectrum['uob_red_'+str(each_ccd)] for each_ccd in [1,2,3,4]]))\n",
    "    spectrum['uob_norm'] = np.concatenate(([spectrum['uob_norm_'+str(each_ccd)] for each_ccd in [1,2,3,4]]))\n",
    "\n",
    "    return spectrum \n",
    "    \n",
    "    #returns a 30 \"row\" dict of numpy array per row 'wave_red_x' is the key for the key value pair\n",
    "    #camera 3 will be the more useful canmera for Li spectra "
   ],
   "outputs": [],
   "metadata": {}
  },
  {
   "cell_type": "code",
   "execution_count": null,
   "source": [
    "#sobject_ids = [140312004501116]"
   ],
   "outputs": [],
   "metadata": {}
  },
  {
   "cell_type": "code",
   "execution_count": null,
   "source": [
    "#test = read_spectra(140312004501116)"
   ],
   "outputs": [],
   "metadata": {}
  },
  {
   "cell_type": "code",
   "execution_count": null,
   "source": [
    "#test[\"sob_norm_3\"]"
   ],
   "outputs": [],
   "metadata": {}
  },
  {
   "cell_type": "code",
   "execution_count": 41,
   "source": [
    "spectra = {}\n",
    "spectra['read_spec'] = []\n",
    "\n",
    "wave = {}\n",
    "wave['wave'] = []"
   ],
   "outputs": [],
   "metadata": {}
  },
  {
   "cell_type": "code",
   "execution_count": 42,
   "source": [
    "for i in range(len(sobject_ids)):\n",
    "    spectrum = read_spectra(sobject_ids[i],regrid) #spectrum['sob_norm_'+str(camera)]\n",
    "    spectra['read_spec'].append(spectrum['sob_norm_3'])\n",
    "    wave['wave'].append(spectrum['wave_norm_3'])"
   ],
   "outputs": [],
   "metadata": {}
  },
  {
   "cell_type": "code",
   "execution_count": 43,
   "source": [
    "print(wave[\"wave\"])"
   ],
   "outputs": [
    {
     "output_type": "stream",
     "name": "stdout",
     "text": [
      "[[]]\n"
     ]
    }
   ],
   "metadata": {}
  },
  {
   "cell_type": "code",
   "execution_count": 44,
   "source": [
    "print(spectra[\"read_spec\"])"
   ],
   "outputs": [
    {
     "output_type": "stream",
     "name": "stdout",
     "text": [
      "[[]]\n"
     ]
    }
   ],
   "metadata": {}
  }
 ],
 "metadata": {
  "orig_nbformat": 4,
  "language_info": {
   "name": "python",
   "version": "3.8.11",
   "mimetype": "text/x-python",
   "codemirror_mode": {
    "name": "ipython",
    "version": 3
   },
   "pygments_lexer": "ipython3",
   "nbconvert_exporter": "python",
   "file_extension": ".py"
  },
  "kernelspec": {
   "name": "python3",
   "display_name": "Python 3.8.11 64-bit ('masters-thesis': conda)"
  },
  "interpreter": {
   "hash": "8aa95240b918af49c0a2ea4560aadedb9cfa623e80e3cd8858f359a82f85c074"
  }
 },
 "nbformat": 4,
 "nbformat_minor": 2
}